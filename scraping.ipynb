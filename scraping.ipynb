{
 "cells": [
  {
   "cell_type": "code",
   "execution_count": 1,
   "id": "victorian-microphone",
   "metadata": {},
   "outputs": [],
   "source": [
    "from bs4 import BeautifulSoup\n",
    "import requests\n",
    "import os"
   ]
  },
  {
   "cell_type": "code",
   "execution_count": 102,
   "id": "excess-albania",
   "metadata": {},
   "outputs": [],
   "source": [
    "decks_page = requests.get(\"https://scryfall.com/sets/ddq\")\n",
    "soup = BeautifulSoup(decks_page.content, \"html.parser\")"
   ]
  },
  {
   "cell_type": "code",
   "execution_count": 105,
   "id": "measured-easter",
   "metadata": {},
   "outputs": [],
   "source": [
    "img_els = soup.find_all(class_=\"card ddq border-black\")"
   ]
  },
  {
   "cell_type": "code",
   "execution_count": 110,
   "id": "complex-editor",
   "metadata": {},
   "outputs": [],
   "source": [
    "for i, img_el in enumerate(img_els):\n",
    "    name = img_el['alt'].replace(\" \", \"_\")\n",
    "    url = img_el['src'] if img_el['src'] else img_el['data-src']\n",
    "    filename = f\"test_images/mtg_cursed_blessed/{i}_{name}.jpg\"\n",
    "    img = requests.get(url).content\n",
    "    with open(filename, \"wb\") as file:\n",
    "        file.write(img)"
   ]
  },
  {
   "cell_type": "code",
   "execution_count": 19,
   "id": "moved-check",
   "metadata": {},
   "outputs": [],
   "source": [
    "def scrape_set(url, target_folder):\n",
    "    page = requests.get(url)\n",
    "    soup = BeautifulSoup(page.content, \"html.parser\")\n",
    "    img_els = soup.find_all(class_=['border-black'])\n",
    "    os.makedirs(target_folder, exist_ok=True)\n",
    "    for i, img_el in enumerate(img_els):\n",
    "        card_name = img_el['alt'].replace(\" \", \"_\").replace(\"/\", \"\")\n",
    "        img_url = img_el['src'] if img_el['src'] else img_el['data-src']\n",
    "        filename = f\"{target_folder}/{i}_{card_name}.jpg\"\n",
    "        img = requests.get(img_url).content\n",
    "        with open(filename, \"wb\") as file:\n",
    "            file.write(img)\n",
    "    return True"
   ]
  },
  {
   "cell_type": "code",
   "execution_count": 12,
   "id": "excessive-extra",
   "metadata": {
    "scrolled": false
   },
   "outputs": [
    {
     "data": {
      "text/plain": [
       "True"
      ]
     },
     "execution_count": 12,
     "metadata": {},
     "output_type": "execute_result"
    }
   ],
   "source": [
    "scrape_set(\"https://scryfall.com/sets/m21\", \"test_images/mtg_core_set_21\")"
   ]
  },
  {
   "cell_type": "code",
   "execution_count": 13,
   "id": "deluxe-dayton",
   "metadata": {},
   "outputs": [
    {
     "data": {
      "text/plain": [
       "True"
      ]
     },
     "execution_count": 13,
     "metadata": {},
     "output_type": "execute_result"
    }
   ],
   "source": [
    "scrape_set(\"https://scryfall.com/sets/iko\", \"test_images/ikoria_lair_of_behemoths\")"
   ]
  },
  {
   "cell_type": "code",
   "execution_count": 14,
   "id": "wrapped-cricket",
   "metadata": {},
   "outputs": [
    {
     "data": {
      "text/plain": [
       "True"
      ]
     },
     "execution_count": 14,
     "metadata": {},
     "output_type": "execute_result"
    }
   ],
   "source": [
    "scrape_set(\"https://scryfall.com/sets/thb\", \"test_images/mtg_theros_beyond_death\")"
   ]
  },
  {
   "cell_type": "code",
   "execution_count": 20,
   "id": "golden-spare",
   "metadata": {},
   "outputs": [
    {
     "data": {
      "text/plain": [
       "True"
      ]
     },
     "execution_count": 20,
     "metadata": {},
     "output_type": "execute_result"
    }
   ],
   "source": [
    "scrape_set(\"https://scryfall.com/sets/eld\", \"test_images/mtg_throne_of_eldraine\")"
   ]
  },
  {
   "cell_type": "markdown",
   "id": "eastern-scotland",
   "metadata": {},
   "source": [
    "# Pokémon"
   ]
  },
  {
   "cell_type": "code",
   "execution_count": 24,
   "id": "interesting-harassment",
   "metadata": {},
   "outputs": [],
   "source": [
    "def scrape_pkmn_set(url, target_folder):\n",
    "    page = requests.get(url)\n",
    "    soup = BeautifulSoup(page.content, \"html.parser\")\n",
    "    card_els = soup.find_all('article')\n",
    "    os.makedirs(target_folder, exist_ok=True)\n",
    "    for i, el in enumerate(card_els):\n",
    "        card_name = el['aria-label']\n",
    "        img_url = el.find(class_='card-image').find('img')['src']\n",
    "        filename = f\"{target_folder}/{i}_{card_name}.jpg\"\n",
    "        img = requests.get(img_url).content\n",
    "        with open(filename, \"wb\") as file:\n",
    "            file.write(img)\n",
    "    return card_els"
   ]
  },
  {
   "cell_type": "code",
   "execution_count": 25,
   "id": "heard-century",
   "metadata": {
    "scrolled": false
   },
   "outputs": [],
   "source": [
    "card_els = scrape_pkmn_set(\"https://pkmncards.com/set/vivid-voltage/\", \"test_images/pkmn_vivid_voltage\")"
   ]
  },
  {
   "cell_type": "code",
   "execution_count": 30,
   "id": "occupied-agent",
   "metadata": {},
   "outputs": [
    {
     "data": {
      "text/plain": [
       "['test_images/pkmn_vivid_voltage\\\\173_Galarian Sirfetch’d V (Vivid Voltage VIV 174).jpg',\n",
       " 'test_images/pkmn_vivid_voltage\\\\200_Hero’s Medal (Vivid Voltage VIV 201).jpg']"
      ]
     },
     "execution_count": 30,
     "metadata": {},
     "output_type": "execute_result"
    }
   ],
   "source": [
    "[name for name in glob.glob(\"test_images/pkmn_vivid_voltage/*.jpg\") if \"’\" in name]"
   ]
  },
  {
   "cell_type": "code",
   "execution_count": null,
   "id": "legitimate-stress",
   "metadata": {},
   "outputs": [],
   "source": []
  }
 ],
 "metadata": {
  "kernelspec": {
   "display_name": "Python 3",
   "language": "python",
   "name": "python3"
  },
  "language_info": {
   "codemirror_mode": {
    "name": "ipython",
    "version": 3
   },
   "file_extension": ".py",
   "mimetype": "text/x-python",
   "name": "python",
   "nbconvert_exporter": "python",
   "pygments_lexer": "ipython3",
   "version": "3.8.5"
  }
 },
 "nbformat": 4,
 "nbformat_minor": 5
}
